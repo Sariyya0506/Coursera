{
    "cells": [
        {
            "cell_type": "markdown",
            "metadata": {
                "collapsed": true
            },
            "source": "# Applied Data Science Capstone\" Project  Week 3  Part 3"
        },
        {
            "cell_type": "markdown",
            "metadata": {},
            "source": "We install all necessary libraries"
        },
        {
            "cell_type": "code",
            "execution_count": 103,
            "metadata": {},
            "outputs": [
                {
                    "name": "stdout",
                    "output_type": "stream",
                    "text": "/opt/conda/envs/Python-3.7-main/lib/python3.7/site-packages/secretstorage/dhcrypto.py:16: CryptographyDeprecationWarning: int_from_bytes is deprecated, use int.from_bytes instead\n  from cryptography.utils import int_from_bytes\n/opt/conda/envs/Python-3.7-main/lib/python3.7/site-packages/secretstorage/util.py:25: CryptographyDeprecationWarning: int_from_bytes is deprecated, use int.from_bytes instead\n  from cryptography.utils import int_from_bytes\nRequirement already satisfied: folium in /opt/conda/envs/Python-3.7-main/lib/python3.7/site-packages (0.12.1)\nRequirement already satisfied: jinja2>=2.9 in /opt/conda/envs/Python-3.7-main/lib/python3.7/site-packages (from folium) (2.11.2)\nRequirement already satisfied: requests in /opt/conda/envs/Python-3.7-main/lib/python3.7/site-packages (from folium) (2.24.0)\nRequirement already satisfied: numpy in /opt/conda/envs/Python-3.7-main/lib/python3.7/site-packages (from folium) (1.18.5)\nRequirement already satisfied: branca>=0.3.0 in /opt/conda/envs/Python-3.7-main/lib/python3.7/site-packages (from folium) (0.4.2)\nRequirement already satisfied: MarkupSafe>=0.23 in /opt/conda/envs/Python-3.7-main/lib/python3.7/site-packages (from jinja2>=2.9->folium) (1.1.1)\nRequirement already satisfied: urllib3!=1.25.0,!=1.25.1,<1.26,>=1.21.1 in /opt/conda/envs/Python-3.7-main/lib/python3.7/site-packages (from requests->folium) (1.25.9)\nRequirement already satisfied: idna<3,>=2.5 in /opt/conda/envs/Python-3.7-main/lib/python3.7/site-packages (from requests->folium) (2.9)\nRequirement already satisfied: chardet<4,>=3.0.2 in /opt/conda/envs/Python-3.7-main/lib/python3.7/site-packages (from requests->folium) (3.0.4)\nRequirement already satisfied: certifi>=2017.4.17 in /opt/conda/envs/Python-3.7-main/lib/python3.7/site-packages (from requests->folium) (2020.12.5)\n"
                }
            ],
            "source": "import pandas as pd\nimport numpy as np\nfrom geopy.geocoders import Nominatim\nimport matplotlib.cm as cm\nimport matplotlib.colors as colors\n!pip install folium\nimport folium"
        },
        {
            "cell_type": "markdown",
            "metadata": {},
            "source": "Upload the  dataset  we saved  as csv file in part 2"
        },
        {
            "cell_type": "code",
            "execution_count": 104,
            "metadata": {},
            "outputs": [
                {
                    "data": {
                        "text/html": "<div>\n<style scoped>\n    .dataframe tbody tr th:only-of-type {\n        vertical-align: middle;\n    }\n\n    .dataframe tbody tr th {\n        vertical-align: top;\n    }\n\n    .dataframe thead th {\n        text-align: right;\n    }\n</style>\n<table border=\"1\" class=\"dataframe\">\n  <thead>\n    <tr style=\"text-align: right;\">\n      <th></th>\n      <th>PostalCode</th>\n      <th>Borough</th>\n      <th>Neighborhood</th>\n      <th>Latitude</th>\n      <th>Longitude</th>\n    </tr>\n  </thead>\n  <tbody>\n    <tr>\n      <th>0</th>\n      <td>M3A</td>\n      <td>North York</td>\n      <td>Parkwoods</td>\n      <td>43.753259</td>\n      <td>-79.329656</td>\n    </tr>\n    <tr>\n      <th>1</th>\n      <td>M4A</td>\n      <td>North York</td>\n      <td>Victoria Village</td>\n      <td>43.725882</td>\n      <td>-79.315572</td>\n    </tr>\n    <tr>\n      <th>2</th>\n      <td>M5A</td>\n      <td>Downtown Toronto</td>\n      <td>Regent Park, Harbourfront</td>\n      <td>43.654260</td>\n      <td>-79.360636</td>\n    </tr>\n    <tr>\n      <th>3</th>\n      <td>M6A</td>\n      <td>North York</td>\n      <td>Lawrence Manor, Lawrence Heights</td>\n      <td>43.718518</td>\n      <td>-79.464763</td>\n    </tr>\n    <tr>\n      <th>4</th>\n      <td>M7A</td>\n      <td>Queen's Park</td>\n      <td>Ontario Provincial Government</td>\n      <td>43.662301</td>\n      <td>-79.389494</td>\n    </tr>\n  </tbody>\n</table>\n</div>",
                        "text/plain": "  PostalCode           Borough                      Neighborhood   Latitude  \\\n0        M3A        North York                         Parkwoods  43.753259   \n1        M4A        North York                  Victoria Village  43.725882   \n2        M5A  Downtown Toronto         Regent Park, Harbourfront  43.654260   \n3        M6A        North York  Lawrence Manor, Lawrence Heights  43.718518   \n4        M7A      Queen's Park     Ontario Provincial Government  43.662301   \n\n   Longitude  \n0 -79.329656  \n1 -79.315572  \n2 -79.360636  \n3 -79.464763  \n4 -79.389494  "
                    },
                    "execution_count": 104,
                    "metadata": {},
                    "output_type": "execute_result"
                }
            ],
            "source": "df1=pd.read_csv('Capstone_project_part2.csv',index_col=[0])\ndf1.head()"
        },
        {
            "cell_type": "markdown",
            "metadata": {},
            "source": "We work with only boroughs that contain the word Toronto in its name.\n"
        },
        {
            "cell_type": "code",
            "execution_count": 105,
            "metadata": {},
            "outputs": [
                {
                    "data": {
                        "text/html": "<div>\n<style scoped>\n    .dataframe tbody tr th:only-of-type {\n        vertical-align: middle;\n    }\n\n    .dataframe tbody tr th {\n        vertical-align: top;\n    }\n\n    .dataframe thead th {\n        text-align: right;\n    }\n</style>\n<table border=\"1\" class=\"dataframe\">\n  <thead>\n    <tr style=\"text-align: right;\">\n      <th></th>\n      <th>PostalCode</th>\n      <th>Borough</th>\n      <th>Neighborhood</th>\n      <th>Latitude</th>\n      <th>Longitude</th>\n    </tr>\n  </thead>\n  <tbody>\n    <tr>\n      <th>0</th>\n      <td>M5A</td>\n      <td>Downtown Toronto</td>\n      <td>Regent Park, Harbourfront</td>\n      <td>43.654260</td>\n      <td>-79.360636</td>\n    </tr>\n    <tr>\n      <th>1</th>\n      <td>M5B</td>\n      <td>Downtown Toronto</td>\n      <td>Garden District, Ryerson</td>\n      <td>43.657162</td>\n      <td>-79.378937</td>\n    </tr>\n    <tr>\n      <th>2</th>\n      <td>M5C</td>\n      <td>Downtown Toronto</td>\n      <td>St. James Town</td>\n      <td>43.651494</td>\n      <td>-79.375418</td>\n    </tr>\n    <tr>\n      <th>3</th>\n      <td>M4E</td>\n      <td>East Toronto</td>\n      <td>The Beaches</td>\n      <td>43.676357</td>\n      <td>-79.293031</td>\n    </tr>\n    <tr>\n      <th>4</th>\n      <td>M5E</td>\n      <td>Downtown Toronto</td>\n      <td>Berczy Park</td>\n      <td>43.644771</td>\n      <td>-79.373306</td>\n    </tr>\n    <tr>\n      <th>5</th>\n      <td>M5G</td>\n      <td>Downtown Toronto</td>\n      <td>Central Bay Street</td>\n      <td>43.657952</td>\n      <td>-79.387383</td>\n    </tr>\n    <tr>\n      <th>6</th>\n      <td>M6G</td>\n      <td>Downtown Toronto</td>\n      <td>Christie</td>\n      <td>43.669542</td>\n      <td>-79.422564</td>\n    </tr>\n    <tr>\n      <th>7</th>\n      <td>M5H</td>\n      <td>Downtown Toronto</td>\n      <td>Richmond, Adelaide, King</td>\n      <td>43.650571</td>\n      <td>-79.384568</td>\n    </tr>\n    <tr>\n      <th>8</th>\n      <td>M6H</td>\n      <td>West Toronto</td>\n      <td>Dufferin, Dovercourt Village</td>\n      <td>43.669005</td>\n      <td>-79.442259</td>\n    </tr>\n    <tr>\n      <th>9</th>\n      <td>M4J</td>\n      <td>East York/East Toronto</td>\n      <td>The Danforth  East</td>\n      <td>43.685347</td>\n      <td>-79.338106</td>\n    </tr>\n    <tr>\n      <th>10</th>\n      <td>M5J</td>\n      <td>Downtown Toronto</td>\n      <td>Harbourfront East, Union Station, Toronto Islands</td>\n      <td>43.640816</td>\n      <td>-79.381752</td>\n    </tr>\n    <tr>\n      <th>11</th>\n      <td>M6J</td>\n      <td>West Toronto</td>\n      <td>Little Portugal, Trinity</td>\n      <td>43.647927</td>\n      <td>-79.419750</td>\n    </tr>\n    <tr>\n      <th>12</th>\n      <td>M4K</td>\n      <td>East Toronto</td>\n      <td>The Danforth West, Riverdale</td>\n      <td>43.679557</td>\n      <td>-79.352188</td>\n    </tr>\n    <tr>\n      <th>13</th>\n      <td>M5K</td>\n      <td>Downtown Toronto</td>\n      <td>Toronto Dominion Centre, Design Exchange</td>\n      <td>43.647177</td>\n      <td>-79.381576</td>\n    </tr>\n    <tr>\n      <th>14</th>\n      <td>M6K</td>\n      <td>West Toronto</td>\n      <td>Brockton, Parkdale Village, Exhibition Place</td>\n      <td>43.636847</td>\n      <td>-79.428191</td>\n    </tr>\n    <tr>\n      <th>15</th>\n      <td>M4L</td>\n      <td>East Toronto</td>\n      <td>India Bazaar, The Beaches West</td>\n      <td>43.668999</td>\n      <td>-79.315572</td>\n    </tr>\n    <tr>\n      <th>16</th>\n      <td>M5L</td>\n      <td>Downtown Toronto</td>\n      <td>Commerce Court, Victoria Hotel</td>\n      <td>43.648198</td>\n      <td>-79.379817</td>\n    </tr>\n    <tr>\n      <th>17</th>\n      <td>M4M</td>\n      <td>East Toronto</td>\n      <td>Studio District</td>\n      <td>43.659526</td>\n      <td>-79.340923</td>\n    </tr>\n    <tr>\n      <th>18</th>\n      <td>M4N</td>\n      <td>Central Toronto</td>\n      <td>Lawrence Park</td>\n      <td>43.728020</td>\n      <td>-79.388790</td>\n    </tr>\n    <tr>\n      <th>19</th>\n      <td>M5N</td>\n      <td>Central Toronto</td>\n      <td>Roselawn</td>\n      <td>43.711695</td>\n      <td>-79.416936</td>\n    </tr>\n    <tr>\n      <th>20</th>\n      <td>M4P</td>\n      <td>Central Toronto</td>\n      <td>Davisville North</td>\n      <td>43.712751</td>\n      <td>-79.390197</td>\n    </tr>\n    <tr>\n      <th>21</th>\n      <td>M5P</td>\n      <td>Central Toronto</td>\n      <td>Forest Hill North &amp; West</td>\n      <td>43.696948</td>\n      <td>-79.411307</td>\n    </tr>\n    <tr>\n      <th>22</th>\n      <td>M6P</td>\n      <td>West Toronto</td>\n      <td>High Park, The Junction South</td>\n      <td>43.661608</td>\n      <td>-79.464763</td>\n    </tr>\n    <tr>\n      <th>23</th>\n      <td>M4R</td>\n      <td>Central Toronto</td>\n      <td>North Toronto West</td>\n      <td>43.715383</td>\n      <td>-79.405678</td>\n    </tr>\n    <tr>\n      <th>24</th>\n      <td>M5R</td>\n      <td>Central Toronto</td>\n      <td>The Annex, North Midtown, Yorkville</td>\n      <td>43.672710</td>\n      <td>-79.405678</td>\n    </tr>\n    <tr>\n      <th>25</th>\n      <td>M6R</td>\n      <td>West Toronto</td>\n      <td>Parkdale, Roncesvalles</td>\n      <td>43.648960</td>\n      <td>-79.456325</td>\n    </tr>\n    <tr>\n      <th>26</th>\n      <td>M4S</td>\n      <td>Central Toronto</td>\n      <td>Davisville</td>\n      <td>43.704324</td>\n      <td>-79.388790</td>\n    </tr>\n    <tr>\n      <th>27</th>\n      <td>M5S</td>\n      <td>Downtown Toronto</td>\n      <td>University of Toronto, Harbord</td>\n      <td>43.662696</td>\n      <td>-79.400049</td>\n    </tr>\n    <tr>\n      <th>28</th>\n      <td>M6S</td>\n      <td>West Toronto</td>\n      <td>Runnymede, Swansea</td>\n      <td>43.651571</td>\n      <td>-79.484450</td>\n    </tr>\n    <tr>\n      <th>29</th>\n      <td>M4T</td>\n      <td>Central Toronto</td>\n      <td>Moore Park, Summerhill East</td>\n      <td>43.689574</td>\n      <td>-79.383160</td>\n    </tr>\n    <tr>\n      <th>30</th>\n      <td>M5T</td>\n      <td>Downtown Toronto</td>\n      <td>Kensington Market, Chinatown, Grange Park</td>\n      <td>43.653206</td>\n      <td>-79.400049</td>\n    </tr>\n    <tr>\n      <th>31</th>\n      <td>M4V</td>\n      <td>Central Toronto</td>\n      <td>Summerhill West, Rathnelly, South Hill, Forest...</td>\n      <td>43.686412</td>\n      <td>-79.400049</td>\n    </tr>\n    <tr>\n      <th>32</th>\n      <td>M5V</td>\n      <td>Downtown Toronto</td>\n      <td>CN Tower, King and Spadina, Railway Lands, Har...</td>\n      <td>43.628947</td>\n      <td>-79.394420</td>\n    </tr>\n    <tr>\n      <th>33</th>\n      <td>M4W</td>\n      <td>Downtown Toronto</td>\n      <td>Rosedale</td>\n      <td>43.679563</td>\n      <td>-79.377529</td>\n    </tr>\n    <tr>\n      <th>34</th>\n      <td>M5W</td>\n      <td>Downtown Toronto Stn A</td>\n      <td>Enclave of M5E</td>\n      <td>43.646435</td>\n      <td>-79.374846</td>\n    </tr>\n    <tr>\n      <th>35</th>\n      <td>M4X</td>\n      <td>Downtown Toronto</td>\n      <td>St. James Town, Cabbagetown</td>\n      <td>43.667967</td>\n      <td>-79.367675</td>\n    </tr>\n    <tr>\n      <th>36</th>\n      <td>M5X</td>\n      <td>Downtown Toronto</td>\n      <td>First Canadian Place, Underground city</td>\n      <td>43.648429</td>\n      <td>-79.382280</td>\n    </tr>\n    <tr>\n      <th>37</th>\n      <td>M4Y</td>\n      <td>Downtown Toronto</td>\n      <td>Church and Wellesley</td>\n      <td>43.665860</td>\n      <td>-79.383160</td>\n    </tr>\n    <tr>\n      <th>38</th>\n      <td>M7Y</td>\n      <td>East Toronto Business</td>\n      <td>Enclave of M4L</td>\n      <td>43.662744</td>\n      <td>-79.321558</td>\n    </tr>\n  </tbody>\n</table>\n</div>",
                        "text/plain": "   PostalCode                 Borough  \\\n0         M5A        Downtown Toronto   \n1         M5B        Downtown Toronto   \n2         M5C        Downtown Toronto   \n3         M4E            East Toronto   \n4         M5E        Downtown Toronto   \n5         M5G        Downtown Toronto   \n6         M6G        Downtown Toronto   \n7         M5H        Downtown Toronto   \n8         M6H            West Toronto   \n9         M4J  East York/East Toronto   \n10        M5J        Downtown Toronto   \n11        M6J            West Toronto   \n12        M4K            East Toronto   \n13        M5K        Downtown Toronto   \n14        M6K            West Toronto   \n15        M4L            East Toronto   \n16        M5L        Downtown Toronto   \n17        M4M            East Toronto   \n18        M4N         Central Toronto   \n19        M5N         Central Toronto   \n20        M4P         Central Toronto   \n21        M5P         Central Toronto   \n22        M6P            West Toronto   \n23        M4R         Central Toronto   \n24        M5R         Central Toronto   \n25        M6R            West Toronto   \n26        M4S         Central Toronto   \n27        M5S        Downtown Toronto   \n28        M6S            West Toronto   \n29        M4T         Central Toronto   \n30        M5T        Downtown Toronto   \n31        M4V         Central Toronto   \n32        M5V        Downtown Toronto   \n33        M4W        Downtown Toronto   \n34        M5W  Downtown Toronto Stn A   \n35        M4X        Downtown Toronto   \n36        M5X        Downtown Toronto   \n37        M4Y        Downtown Toronto   \n38        M7Y   East Toronto Business   \n\n                                         Neighborhood   Latitude  Longitude  \n0                           Regent Park, Harbourfront  43.654260 -79.360636  \n1                            Garden District, Ryerson  43.657162 -79.378937  \n2                                      St. James Town  43.651494 -79.375418  \n3                                         The Beaches  43.676357 -79.293031  \n4                                         Berczy Park  43.644771 -79.373306  \n5                                  Central Bay Street  43.657952 -79.387383  \n6                                            Christie  43.669542 -79.422564  \n7                            Richmond, Adelaide, King  43.650571 -79.384568  \n8                        Dufferin, Dovercourt Village  43.669005 -79.442259  \n9                                  The Danforth  East  43.685347 -79.338106  \n10  Harbourfront East, Union Station, Toronto Islands  43.640816 -79.381752  \n11                           Little Portugal, Trinity  43.647927 -79.419750  \n12                       The Danforth West, Riverdale  43.679557 -79.352188  \n13           Toronto Dominion Centre, Design Exchange  43.647177 -79.381576  \n14       Brockton, Parkdale Village, Exhibition Place  43.636847 -79.428191  \n15                     India Bazaar, The Beaches West  43.668999 -79.315572  \n16                     Commerce Court, Victoria Hotel  43.648198 -79.379817  \n17                                    Studio District  43.659526 -79.340923  \n18                                      Lawrence Park  43.728020 -79.388790  \n19                                           Roselawn  43.711695 -79.416936  \n20                                   Davisville North  43.712751 -79.390197  \n21                           Forest Hill North & West  43.696948 -79.411307  \n22                      High Park, The Junction South  43.661608 -79.464763  \n23                                 North Toronto West  43.715383 -79.405678  \n24                The Annex, North Midtown, Yorkville  43.672710 -79.405678  \n25                             Parkdale, Roncesvalles  43.648960 -79.456325  \n26                                         Davisville  43.704324 -79.388790  \n27                     University of Toronto, Harbord  43.662696 -79.400049  \n28                                 Runnymede, Swansea  43.651571 -79.484450  \n29                        Moore Park, Summerhill East  43.689574 -79.383160  \n30          Kensington Market, Chinatown, Grange Park  43.653206 -79.400049  \n31  Summerhill West, Rathnelly, South Hill, Forest...  43.686412 -79.400049  \n32  CN Tower, King and Spadina, Railway Lands, Har...  43.628947 -79.394420  \n33                                           Rosedale  43.679563 -79.377529  \n34                                     Enclave of M5E  43.646435 -79.374846  \n35                        St. James Town, Cabbagetown  43.667967 -79.367675  \n36             First Canadian Place, Underground city  43.648429 -79.382280  \n37                               Church and Wellesley  43.665860 -79.383160  \n38                                     Enclave of M4L  43.662744 -79.321558  "
                    },
                    "execution_count": 105,
                    "metadata": {},
                    "output_type": "execute_result"
                }
            ],
            "source": "df2=df1[df1['Borough'].str.contains('Toronto')]\ndf2=df2.reset_index(drop=True)\ndf2"
        },
        {
            "cell_type": "code",
            "execution_count": 106,
            "metadata": {},
            "outputs": [
                {
                    "data": {
                        "text/plain": "Downtown Toronto          17\nCentral Toronto            9\nWest Toronto               6\nEast Toronto               4\nDowntown Toronto Stn A     1\nEast York/East Toronto     1\nEast Toronto Business      1\nName: Borough, dtype: int64"
                    },
                    "execution_count": 106,
                    "metadata": {},
                    "output_type": "execute_result"
                }
            ],
            "source": "df2['Borough'].value_counts()"
        },
        {
            "cell_type": "markdown",
            "metadata": {},
            "source": "We find coordinates of Toronto"
        },
        {
            "cell_type": "code",
            "execution_count": 107,
            "metadata": {},
            "outputs": [
                {
                    "name": "stdout",
                    "output_type": "stream",
                    "text": "The geograpical coordinate of Toronto are 43.6534817, -79.3839347.\n"
                }
            ],
            "source": "address = 'Toronto'\ngeolocator = Nominatim(user_agent=\"toronto_explorer\")\nlocation = geolocator.geocode(address)\nlatitude = location.latitude\nlongitude = location.longitude\nprint(f'The geograpical coordinate of Toronto are {latitude}, {longitude}.')"
        },
        {
            "cell_type": "markdown",
            "metadata": {},
            "source": "We create map of Toronto  using latitude and longitude values with indicated Neighborhoods"
        },
        {
            "cell_type": "code",
            "execution_count": 108,
            "metadata": {},
            "outputs": [],
            "source": "Toronto_map=folium.Map([latitude,longitude],zoom_start=10)\nfor lat,long,postalcode,borough,neighborhood in zip(df1['Latitude'],df1['Longitude'],df1['PostalCode'],df1['Borough'],df1['Neighborhood']):\n    label='Postal Code:{},Neighborhoods:{},Borough:{}'.format(postalcode,neighborhood,borough)\n    label=folium.Popup(label,parse_html=True)\n    folium.CircleMarker([lat,long],radius=5,color='blue',popup=label,\n                        fill=True,fill_color='#3186cc',fill_opacity=0.7,\n                        parse_html=True).add_to(Toronto_map)"
        },
        {
            "cell_type": "markdown",
            "metadata": {},
            "source": "Let's explore the first neighborhood in our dataframe.\nGet the neighborhood's name."
        },
        {
            "cell_type": "code",
            "execution_count": 109,
            "metadata": {},
            "outputs": [
                {
                    "data": {
                        "text/plain": "'Regent Park, Harbourfront'"
                    },
                    "execution_count": 109,
                    "metadata": {},
                    "output_type": "execute_result"
                }
            ],
            "source": "df2.loc[0,'Neighborhood' ]"
        },
        {
            "cell_type": "markdown",
            "metadata": {},
            "source": "Get the neighborhood's latitude and longitude values"
        },
        {
            "cell_type": "code",
            "execution_count": 110,
            "metadata": {},
            "outputs": [
                {
                    "name": "stdout",
                    "output_type": "stream",
                    "text": "Latitude and longitude values of Regent Park, Harbourfront are 43.6542599, -79.3606359.\n"
                }
            ],
            "source": "neighborhood_latitude = df2.loc[0, 'Latitude'] # neighborhood latitude value\nneighborhood_longitude = df2.loc[0, 'Longitude'] # neighborhood longitude value\n\nneighborhood_name =df2.loc[0, 'Neighborhood'] # neighborhood name\n\nprint('Latitude and longitude values of {} are {}, {}.'.format(neighborhood_name, \n                                                               neighborhood_latitude, \n                                                               neighborhood_longitude))"
        },
        {
            "cell_type": "markdown",
            "metadata": {},
            "source": "Get venues in all neighbourhoods"
        },
        {
            "cell_type": "code",
            "execution_count": 111,
            "metadata": {},
            "outputs": [
                {
                    "data": {
                        "text/html": "<div>\n<style scoped>\n    .dataframe tbody tr th:only-of-type {\n        vertical-align: middle;\n    }\n\n    .dataframe tbody tr th {\n        vertical-align: top;\n    }\n\n    .dataframe thead th {\n        text-align: right;\n    }\n</style>\n<table border=\"1\" class=\"dataframe\">\n  <thead>\n    <tr style=\"text-align: right;\">\n      <th></th>\n      <th>Neighborhood</th>\n      <th>Neighborhood Latitude</th>\n      <th>Neighborhood Longitude</th>\n      <th>Venue</th>\n      <th>Venue Latitude</th>\n      <th>Venue Longitude</th>\n      <th>Venue Category</th>\n    </tr>\n  </thead>\n  <tbody>\n    <tr>\n      <th>0</th>\n      <td>Malvern, Rouge</td>\n      <td>43.806686</td>\n      <td>-79.194353</td>\n      <td>Wendy\u2019s</td>\n      <td>43.807448</td>\n      <td>-79.199056</td>\n      <td>Fast Food Restaurant</td>\n    </tr>\n    <tr>\n      <th>1</th>\n      <td>Rouge Hill, Port Union, Highland Creek</td>\n      <td>43.784535</td>\n      <td>-79.160497</td>\n      <td>Royal Canadian Legion</td>\n      <td>43.782533</td>\n      <td>-79.163085</td>\n      <td>Bar</td>\n    </tr>\n    <tr>\n      <th>2</th>\n      <td>Guildwood, Morningside, West Hill</td>\n      <td>43.763573</td>\n      <td>-79.188711</td>\n      <td>RBC Royal Bank</td>\n      <td>43.766790</td>\n      <td>-79.191151</td>\n      <td>Bank</td>\n    </tr>\n    <tr>\n      <th>3</th>\n      <td>Guildwood, Morningside, West Hill</td>\n      <td>43.763573</td>\n      <td>-79.188711</td>\n      <td>G &amp; G Electronics</td>\n      <td>43.765309</td>\n      <td>-79.191537</td>\n      <td>Electronics Store</td>\n    </tr>\n    <tr>\n      <th>4</th>\n      <td>Guildwood, Morningside, West Hill</td>\n      <td>43.763573</td>\n      <td>-79.188711</td>\n      <td>Sail Sushi</td>\n      <td>43.765951</td>\n      <td>-79.191275</td>\n      <td>Restaurant</td>\n    </tr>\n  </tbody>\n</table>\n</div>",
                        "text/plain": "                             Neighborhood  Neighborhood Latitude  \\\n0                          Malvern, Rouge              43.806686   \n1  Rouge Hill, Port Union, Highland Creek              43.784535   \n2       Guildwood, Morningside, West Hill              43.763573   \n3       Guildwood, Morningside, West Hill              43.763573   \n4       Guildwood, Morningside, West Hill              43.763573   \n\n   Neighborhood Longitude                  Venue  Venue Latitude  \\\n0              -79.194353                Wendy\u2019s       43.807448   \n1              -79.160497  Royal Canadian Legion       43.782533   \n2              -79.188711         RBC Royal Bank       43.766790   \n3              -79.188711      G & G Electronics       43.765309   \n4              -79.188711             Sail Sushi       43.765951   \n\n   Venue Longitude        Venue Category  \n0       -79.199056  Fast Food Restaurant  \n1       -79.163085                   Bar  \n2       -79.191151                  Bank  \n3       -79.191537     Electronics Store  \n4       -79.191275            Restaurant  "
                    },
                    "execution_count": 111,
                    "metadata": {},
                    "output_type": "execute_result"
                }
            ],
            "source": "nearby_venues1 = pd.read_json(\"https://raw.githubusercontent.com/ibm-developer-skills-network/yczvh-DataFilesForIBMProjects/master/segmenting_neighborhoods.json\")    \nnearby_venues1.columns = ['Neighborhood', \n                  'Neighborhood Latitude', \n                  'Neighborhood Longitude', \n                 'Venue', \n                 'Venue Latitude', \n                 'Venue Longitude', \n                 'Venue Category']\nToronto_venues=nearby_venues1\nnearby_venues1.head()"
        },
        {
            "cell_type": "markdown",
            "metadata": {},
            "source": "Check the number of the venues"
        },
        {
            "cell_type": "code",
            "execution_count": 112,
            "metadata": {},
            "outputs": [
                {
                    "data": {
                        "text/plain": "(1337, 7)"
                    },
                    "execution_count": 112,
                    "metadata": {},
                    "output_type": "execute_result"
                }
            ],
            "source": "nearby_venues1.shape"
        },
        {
            "cell_type": "markdown",
            "metadata": {},
            "source": "Now, we check how many venues were returned for each Neighborhood"
        },
        {
            "cell_type": "code",
            "execution_count": 114,
            "metadata": {},
            "outputs": [
                {
                    "data": {
                        "text/html": "<div>\n<style scoped>\n    .dataframe tbody tr th:only-of-type {\n        vertical-align: middle;\n    }\n\n    .dataframe tbody tr th {\n        vertical-align: top;\n    }\n\n    .dataframe thead th {\n        text-align: right;\n    }\n</style>\n<table border=\"1\" class=\"dataframe\">\n  <thead>\n    <tr style=\"text-align: right;\">\n      <th></th>\n      <th>Venue Category</th>\n    </tr>\n    <tr>\n      <th>Neighborhood</th>\n      <th></th>\n    </tr>\n  </thead>\n  <tbody>\n    <tr>\n      <th>Agincourt</th>\n      <td>4</td>\n    </tr>\n    <tr>\n      <th>Alderwood, Long Branch</th>\n      <td>8</td>\n    </tr>\n    <tr>\n      <th>Bathurst Manor, Wilson Heights, Downsview North</th>\n      <td>23</td>\n    </tr>\n    <tr>\n      <th>Bayview Village</th>\n      <td>4</td>\n    </tr>\n    <tr>\n      <th>Bedford Park, Lawrence Manor East</th>\n      <td>22</td>\n    </tr>\n    <tr>\n      <th>...</th>\n      <td>...</td>\n    </tr>\n    <tr>\n      <th>Willowdale West</th>\n      <td>5</td>\n    </tr>\n    <tr>\n      <th>Willowdale, Newtonbrook</th>\n      <td>1</td>\n    </tr>\n    <tr>\n      <th>Woburn</th>\n      <td>4</td>\n    </tr>\n    <tr>\n      <th>Woodbine Heights</th>\n      <td>8</td>\n    </tr>\n    <tr>\n      <th>York Mills West</th>\n      <td>2</td>\n    </tr>\n  </tbody>\n</table>\n<p>100 rows \u00d7 1 columns</p>\n</div>",
                        "text/plain": "                                                 Venue Category\nNeighborhood                                                   \nAgincourt                                                     4\nAlderwood, Long Branch                                        8\nBathurst Manor, Wilson Heights, Downsview North              23\nBayview Village                                               4\nBedford Park, Lawrence Manor East                            22\n...                                                         ...\nWillowdale West                                               5\nWillowdale, Newtonbrook                                       1\nWoburn                                                        4\nWoodbine Heights                                              8\nYork Mills West                                               2\n\n[100 rows x 1 columns]"
                    },
                    "execution_count": 114,
                    "metadata": {},
                    "output_type": "execute_result"
                }
            ],
            "source": "Toronto_venues.groupby('Neighborhood').count()[['Venue Category']]\n"
        },
        {
            "cell_type": "code",
            "execution_count": 115,
            "metadata": {},
            "outputs": [
                {
                    "name": "stdout",
                    "output_type": "stream",
                    "text": "There are 241 unique venue categories\n"
                }
            ],
            "source": "print('There are {} unique venue categories'.format(len(nearby_venues1['Venue Category'].unique())))"
        }
    ],
    "metadata": {
        "kernelspec": {
            "display_name": "Python 3.7",
            "language": "python",
            "name": "python3"
        },
        "language_info": {
            "codemirror_mode": {
                "name": "ipython",
                "version": 3
            },
            "file_extension": ".py",
            "mimetype": "text/x-python",
            "name": "python",
            "nbconvert_exporter": "python",
            "pygments_lexer": "ipython3",
            "version": "3.7.10"
        }
    },
    "nbformat": 4,
    "nbformat_minor": 1
}